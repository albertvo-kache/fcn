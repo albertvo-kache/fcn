{
 "cells": [
  {
   "cell_type": "code",
   "execution_count": 1,
   "metadata": {
    "scrolled": true
   },
   "outputs": [
    {
     "name": "stderr",
     "output_type": "stream",
     "text": [
      "Using TensorFlow backend.\n"
     ]
    }
   ],
   "source": [
    "import numpy as np\n",
    "import cv2\n",
    "from scipy.misc import imresize\n",
    "from moviepy.editor import VideoFileClip\n",
    "from IPython.display import HTML\n",
    "from keras.models import load_model\n"
   ]
  },
  {
   "cell_type": "code",
   "execution_count": 2,
   "metadata": {
    "collapsed": true
   },
   "outputs": [],
   "source": [
    "# Load Keras model\n",
    "model = load_model('E:/UDACITY/TERM3/LANE/MLND-Capstone/full_CNN_model.h5')\n"
   ]
  },
  {
   "cell_type": "code",
   "execution_count": 6,
   "metadata": {},
   "outputs": [],
   "source": [
    "\n",
    "# Class to average lanes with\n",
    "class Lanes():\n",
    "    def __init__(self):\n",
    "        self.recent_fit = []\n",
    "        self.avg_fit = []\n",
    "\n",
    "def road_lines(image):\n",
    "    \"\"\" Takes in a road image, re-sizes for the model,\n",
    "    predicts the lane to be drawn from the model in G color,\n",
    "    recreates an RGB image of a lane and merges with the\n",
    "    original road image.\n",
    "    \"\"\"\n",
    "\n",
    "    # Get image ready for feeding into model\n",
    "    small_img = imresize(image, (80, 160, 3))\n",
    "    small_img = np.array(small_img)\n",
    "    small_img = small_img[None,:,:,:]\n",
    "\n",
    "    # Make prediction with neural network (un-normalize value by multiplying by 255)\n",
    "    prediction = model.predict(small_img)[0] * 255\n",
    "\n",
    "    # Add lane prediction to list for averaging\n",
    "    lanes.recent_fit.append(prediction)\n",
    "    # Only using last five for average\n",
    "#    if len(lanes.recent_fit) > 5:\n",
    "    if len(lanes.recent_fit) > 10:\n",
    "        lanes.recent_fit = lanes.recent_fit[1:]\n",
    "\n",
    "    # Calculate average detection\n",
    "    lanes.avg_fit = np.mean(np.array([i for i in lanes.recent_fit]), axis = 0)\n",
    "\n",
    "    # Generate fake R & B color dimensions, stack with G\n",
    "    blanks = np.zeros_like(lanes.avg_fit).astype(np.uint8)\n",
    "    lane_drawn = np.dstack((blanks, lanes.avg_fit, blanks))\n",
    "\n",
    "    # Re-size to match the original image\n",
    "    lane_image = imresize(lane_drawn, (720, 1280, 3))\n",
    "\n",
    "    # Merge the lane drawing onto the original image\n",
    "    result = cv2.addWeighted(image, 1, lane_image, 1, 0)\n",
    "\n",
    "    return result\n",
    "\n",
    "lanes = Lanes()\n",
    "\n"
   ]
  },
  {
   "cell_type": "markdown",
   "metadata": {},
   "source": [
    "# Where to save the output video\n",
    "vid_output = 'proj_reg_vid.mp4'\n",
    "\n",
    "# Location of the input video\n",
    "clip1 = VideoFileClip(\"E:/UDACITY/TERM3/LANE/MLND-Capstone/proj_chal_vid.mp4\")\n",
    "\n",
    "vid_clip = clip1.fl_image(road_lines)\n",
    "vid_clip.write_videofile(vid_output, audio=False)"
   ]
  },
  {
   "cell_type": "markdown",
   "metadata": {},
   "source": [
    "# Where to save the output video\n",
    "vid_output = 'driving_out_vid.mp4'\n",
    "\n",
    "# Location of the input video\n",
    "clip1 = VideoFileClip(\"E:/UDACITY/TERM3/LANE/MLND-Capstone/driving.mp4\")\n",
    "\n",
    "vid_clip = clip1.fl_image(road_lines)\n",
    "vid_clip.write_videofile(vid_output, audio=False)"
   ]
  },
  {
   "cell_type": "code",
   "execution_count": 4,
   "metadata": {},
   "outputs": [
    {
     "name": "stdout",
     "output_type": "stream",
     "text": [
      "[MoviePy] >>>> Building video challenge_out.mp4\n",
      "[MoviePy] Writing video challenge_out.mp4\n"
     ]
    },
    {
     "name": "stderr",
     "output_type": "stream",
     "text": [
      "100%|████████████████████████████████████████████████████████████████████████████████| 251/251 [01:36<00:00,  2.50it/s]\n"
     ]
    },
    {
     "name": "stdout",
     "output_type": "stream",
     "text": [
      "[MoviePy] Done.\n",
      "[MoviePy] >>>> Video ready: challenge_out.mp4 \n",
      "\n"
     ]
    }
   ],
   "source": [
    "# Where to save the output video\n",
    "vid_output = 'challenge_out.mp4'\n",
    "\n",
    "# Location of the input video\n",
    "clip1 = VideoFileClip(\"E:/UDACITY/TERM3/LANE/MLND-Capstone/challenge.mp4\")\n",
    "\n",
    "vid_clip = clip1.fl_image(road_lines)\n",
    "vid_clip.write_videofile(vid_output, audio=False)"
   ]
  },
  {
   "cell_type": "markdown",
   "metadata": {},
   "source": [
    "!ffmpeg -i \"E:\\UDACITY\\TERM3\\CarND-Semantic-Segmentation\\runs\\1521710333.3709228\\um_%6d.png\" vid1.mp4"
   ]
  },
  {
   "cell_type": "code",
   "execution_count": 7,
   "metadata": {},
   "outputs": [
    {
     "name": "stdout",
     "output_type": "stream",
     "text": [
      "[MoviePy] >>>> Building video harder_challenge_video_out2.mp4\n",
      "[MoviePy] Writing video harder_challenge_video_out2.mp4\n"
     ]
    },
    {
     "name": "stderr",
     "output_type": "stream",
     "text": [
      "100%|█████████████████████████████████████████████████████████████████████████████▉| 1199/1200 [06:08<00:00,  2.88it/s]\n"
     ]
    },
    {
     "name": "stdout",
     "output_type": "stream",
     "text": [
      "[MoviePy] Done.\n",
      "[MoviePy] >>>> Video ready: harder_challenge_video_out2.mp4 \n",
      "\n"
     ]
    }
   ],
   "source": [
    "# Where to save the output video\n",
    "vid_output = 'harder_challenge_video_out2.mp4'\n",
    "\n",
    "# Location of the input video\n",
    "clip1 = VideoFileClip(\"E:/UDACITY/TERM3/LANE/MLND-Capstone/harder_challenge_video.mp4\")\n",
    "\n",
    "vid_clip = clip1.fl_image(road_lines)\n",
    "vid_clip.write_videofile(vid_output, audio=False)"
   ]
  },
  {
   "cell_type": "code",
   "execution_count": null,
   "metadata": {
    "collapsed": true
   },
   "outputs": [],
   "source": []
  }
 ],
 "metadata": {
  "kernelspec": {
   "display_name": "Python 3",
   "language": "python",
   "name": "python3"
  },
  "language_info": {
   "codemirror_mode": {
    "name": "ipython",
    "version": 3
   },
   "file_extension": ".py",
   "mimetype": "text/x-python",
   "name": "python",
   "nbconvert_exporter": "python",
   "pygments_lexer": "ipython3",
   "version": "3.5.4"
  }
 },
 "nbformat": 4,
 "nbformat_minor": 2
}
